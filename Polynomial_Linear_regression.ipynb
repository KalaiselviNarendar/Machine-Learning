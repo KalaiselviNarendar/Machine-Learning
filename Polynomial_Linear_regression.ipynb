{
  "nbformat": 4,
  "nbformat_minor": 0,
  "metadata": {
    "colab": {
      "provenance": [],
      "collapsed_sections": [],
      "authorship_tag": "ABX9TyN7LaTExaEttm8sbeGemkLX",
      "include_colab_link": true
    },
    "kernelspec": {
      "name": "python3",
      "display_name": "Python 3"
    },
    "language_info": {
      "name": "python"
    }
  },
  "cells": [
    {
      "cell_type": "markdown",
      "metadata": {
        "id": "view-in-github",
        "colab_type": "text"
      },
      "source": [
        "<a href=\"https://colab.research.google.com/github/KalaiselviNarendar/Machine-Learning/blob/main/Polynomial_Linear_regression.ipynb\" target=\"_parent\"><img src=\"https://colab.research.google.com/assets/colab-badge.svg\" alt=\"Open In Colab\"/></a>"
      ]
    },
    {
      "cell_type": "code",
      "execution_count": 1,
      "metadata": {
        "id": "PJRn7-oOTIeu"
      },
      "outputs": [],
      "source": [
        "import numpy as np\n",
        "import matplotlib.pyplot as plt\n",
        "from sklearn.linear_model import LinearRegression"
      ]
    },
    {
      "cell_type": "code",
      "source": [
        "np.random.seed(0)\n",
        "x=2-3*np.random.normal(0,1,20)\n",
        "y=x-2*(x**2)+0.5*(x**3)+np.random.normal(-3,3,20)\n",
        "print(x,y)"
      ],
      "metadata": {
        "colab": {
          "base_uri": "https://localhost:8080/"
        },
        "id": "TinILXufTeLl",
        "outputId": "2c069a7a-fa6b-48b4-bdbf-a842248db29c"
      },
      "execution_count": 37,
      "outputs": [
        {
          "output_type": "stream",
          "name": "stdout",
          "text": [
            "[-3.29215704  0.79952837 -0.93621395 -4.7226796  -3.60267397  4.93183364\n",
            " -0.85026525  2.45407162  2.30965656  0.76820449  1.56786929 -2.36282052\n",
            " -0.28311318  1.63497495  0.6684103   0.99897702 -2.48223722  2.61547479\n",
            "  1.0607969   4.56228722] [ -53.46841187   -1.26255958   -3.50619264 -107.22320039  -49.13195018\n",
            "    8.90122353   -5.46624176   -5.76263165   -0.60058568    1.2226779\n",
            "   -3.95663744  -21.98989452   -6.11812275  -10.46843964   -4.11955719\n",
            "   -3.02941914  -21.76152272   -1.51295226   -4.75491157    6.50723268]\n"
          ]
        }
      ]
    },
    {
      "cell_type": "code",
      "source": [
        "x=x[:,np.newaxis]\n",
        "y=y[:,np.newaxis]\n",
        "print(x,y)"
      ],
      "metadata": {
        "colab": {
          "base_uri": "https://localhost:8080/"
        },
        "id": "sXOwNHP7T1dR",
        "outputId": "e7db4cab-a8da-46fa-b5b4-f26f6be8b7b4"
      },
      "execution_count": 38,
      "outputs": [
        {
          "output_type": "stream",
          "name": "stdout",
          "text": [
            "[[-3.29215704]\n",
            " [ 0.79952837]\n",
            " [-0.93621395]\n",
            " [-4.7226796 ]\n",
            " [-3.60267397]\n",
            " [ 4.93183364]\n",
            " [-0.85026525]\n",
            " [ 2.45407162]\n",
            " [ 2.30965656]\n",
            " [ 0.76820449]\n",
            " [ 1.56786929]\n",
            " [-2.36282052]\n",
            " [-0.28311318]\n",
            " [ 1.63497495]\n",
            " [ 0.6684103 ]\n",
            " [ 0.99897702]\n",
            " [-2.48223722]\n",
            " [ 2.61547479]\n",
            " [ 1.0607969 ]\n",
            " [ 4.56228722]] [[ -53.46841187]\n",
            " [  -1.26255958]\n",
            " [  -3.50619264]\n",
            " [-107.22320039]\n",
            " [ -49.13195018]\n",
            " [   8.90122353]\n",
            " [  -5.46624176]\n",
            " [  -5.76263165]\n",
            " [  -0.60058568]\n",
            " [   1.2226779 ]\n",
            " [  -3.95663744]\n",
            " [ -21.98989452]\n",
            " [  -6.11812275]\n",
            " [ -10.46843964]\n",
            " [  -4.11955719]\n",
            " [  -3.02941914]\n",
            " [ -21.76152272]\n",
            " [  -1.51295226]\n",
            " [  -4.75491157]\n",
            " [   6.50723268]]\n"
          ]
        }
      ]
    },
    {
      "cell_type": "code",
      "source": [
        "model=LinearRegression()\n",
        "model.fit(x,y)\n",
        "y_pred=model.predict(x)\n",
        "plt.scatter(x,y)\n",
        "plt.plot(x,y_pred,color='r')\n",
        "plt.show()"
      ],
      "metadata": {
        "colab": {
          "base_uri": "https://localhost:8080/",
          "height": 265
        },
        "id": "tvxGvaooUM68",
        "outputId": "ab1afd91-c17b-4ccd-dc50-1afb268e2f0a"
      },
      "execution_count": 28,
      "outputs": [
        {
          "output_type": "display_data",
          "data": {
            "text/plain": [
              "<Figure size 432x288 with 1 Axes>"
            ],
            "image/png": "[encoded data removed]"
          },
          "metadata": {
            "needs_background": "light"
          }
        }
      ]
    },
    {
      "cell_type": "markdown",
      "source": [
        "**We can see that the straight line is unable to capture the patterns in the data. This is an example of under-fitting**"
      ],
      "metadata": {
        "id": "L4ouVkxGdw6P"
      }
    },
    {
      "cell_type": "code",
      "source": [
        "from sklearn.metrics import mean_squared_error,r2_score\n",
        "rmse=np.sqrt(mean_squared_error(y,y_pred))\n",
        "r2=r2_score(y,y_pred)\n",
        "print(\"RMSE score is: \",rmse)\n",
        "print(\"R2 score is: \",r2)"
      ],
      "metadata": {
        "colab": {
          "base_uri": "https://localhost:8080/"
        },
        "id": "1Cd39F1Qd02e",
        "outputId": "b5cf589d-ba7c-4185-b690-fa075722bd31"
      },
      "execution_count": 17,
      "outputs": [
        {
          "output_type": "stream",
          "name": "stdout",
          "text": [
            "RMSE score is:  15.908242501429998\n",
            "R2 score is:  0.6386750054827146\n"
          ]
        }
      ]
    },
    {
      "cell_type": "markdown",
      "source": [
        "**To overcome under-fitting, we need to increase the complexity of the model.**"
      ],
      "metadata": {
        "id": "Hde-AKUre1y8"
      }
    },
    {
      "cell_type": "markdown",
      "source": [
        "To generate a higher order equation we can add powers of the original features as new features. The linear model, y=mx+c\n",
        "can be transformed to\n",
        "y=c+b1x+b2(x**2)\n",
        "\n",
        "This is still considered to be linear model as the coefficients/weights associated with the features are still linear. x**2 is only a feature. However the curve that we are fitting is quadratic in nature."
      ],
      "metadata": {
        "id": "10okJjcKe_kN"
      }
    },
    {
      "cell_type": "code",
      "source": [
        "import operator\n",
        "from sklearn.preprocessing import PolynomialFeatures"
      ],
      "metadata": {
        "id": "-fmZ0D15fWv3"
      },
      "execution_count": 19,
      "outputs": []
    },
    {
      "cell_type": "code",
      "source": [
        "np.random.seed(0)\n",
        "x = 2 - 3 * np.random.normal(0, 1, 20)\n",
        "y = x - 2 * (x ** 2) + 0.5 * (x ** 3) + np.random.normal(-3, 3, 20)\n",
        "\n",
        "# transforming the data to include another axis\n",
        "x = x[:, np.newaxis]\n",
        "y = y[:, np.newaxis]\n",
        "\n",
        "polynomial_features=PolynomialFeatures(degree=2)\n",
        "x_poly=polynomial_features.fit_transform(x)\n",
        "model=LinearRegression()\n",
        "model.fit(x_poly,y)\n",
        "y_poly_pred=model.predict(x_poly)\n",
        "\n",
        "rmse_poly=np.sqrt(mean_squared_error(y,y_poly_pred))\n",
        "r2_poly=r2_score(y,y_poly_pred)\n",
        "print(\"RMSE score is: \",rmse_poly)\n",
        "print(\"R2 score is: \",r2_poly)\n",
        "\n",
        "plt.scatter(x,y)\n",
        "sort_axis=operator.itemgetter(0)\n",
        "sorted_zip=sorted(zip(x,y_poly_pred),key=sort_axis)\n",
        "x,y_poly_pred=zip(*sorted_zip)\n",
        "plt.plot(x,y_poly_pred,color='m')\n",
        "plt.show()"
      ],
      "metadata": {
        "colab": {
          "base_uri": "https://localhost:8080/",
          "height": 302
        },
        "id": "x73oO7JHdE-5",
        "outputId": "8f412f1d-e053-4bcd-8160-d1f9283e8fd1"
      },
      "execution_count": 43,
      "outputs": [
        {
          "output_type": "stream",
          "name": "stdout",
          "text": [
            "RMSE score is:  10.120437473614711\n",
            "R2 score is:  0.8537647164420812\n"
          ]
        },
        {
          "output_type": "display_data",
          "data": {
            "text/plain": [
              "<Figure size 432x288 with 1 Axes>"
            ],
            "image/png": "[encoded data removed]"
          },
          "metadata": {
            "needs_background": "light"
          }
        }
      ]
    },
    {
      "cell_type": "markdown",
      "source": [
        "**RMSE has decreased and R²-score has increased as compared to the linear line.**"
      ],
      "metadata": {
        "id": "CiDqFjsml1PH"
      }
    },
    {
      "cell_type": "code",
      "source": [
        "np.random.seed(0)\n",
        "x = 2 - 3 * np.random.normal(0, 1, 20)\n",
        "y = x - 2 * (x ** 2) + 0.5 * (x ** 3) + np.random.normal(-3, 3, 20)\n",
        "\n",
        "# transforming the data to include another axis\n",
        "x = x[:, np.newaxis]\n",
        "y = y[:, np.newaxis]\n",
        "\n",
        "polynomial_features=PolynomialFeatures(degree=5)\n",
        "x_poly=polynomial_features.fit_transform(x)\n",
        "model=LinearRegression()\n",
        "model.fit(x_poly,y)\n",
        "y_poly_pred=model.predict(x_poly)\n",
        "\n",
        "rmse_poly=np.sqrt(mean_squared_error(y,y_poly_pred))\n",
        "r2_poly=r2_score(y,y_poly_pred)\n",
        "print(\"RMSE score is: \",rmse_poly)\n",
        "print(\"R2 score is: \",r2_poly)\n",
        "\n",
        "plt.scatter(x,y)\n",
        "sort_axis=operator.itemgetter(0)\n",
        "sorted_zip=sorted(zip(x,y_poly_pred),key=sort_axis)\n",
        "x,y_poly_pred=zip(*sorted_zip)\n",
        "plt.plot(x,y_poly_pred,color='m')\n",
        "plt.show()"
      ],
      "metadata": {
        "colab": {
          "base_uri": "https://localhost:8080/",
          "height": 302
        },
        "id": "rvjj2EZxl6rm",
        "outputId": "e1ad7590-d628-442d-a4ad-c25ee233c725"
      },
      "execution_count": 47,
      "outputs": [
        {
          "output_type": "stream",
          "name": "stdout",
          "text": [
            "RMSE score is:  3.293351887947394\n",
            "R2 score is:  0.9845143345421614\n"
          ]
        },
        {
          "output_type": "display_data",
          "data": {
            "text/plain": [
              "<Figure size 432x288 with 1 Axes>"
            ],
            "image/png": "[encoded data removed]"
          },
          "metadata": {
            "needs_background": "light"
          }
        }
      ]
    },
    {
      "cell_type": "markdown",
      "source": [
        "for degree 5 it fits much better if we increase the degree then the model will become as overfit model"
      ],
      "metadata": {
        "id": "v8GQfYj8m1ys"
      }
    },
    {
      "cell_type": "code",
      "source": [],
      "metadata": {
        "id": "SIvdB0bLiIXK"
      },
      "execution_count": 24,
      "outputs": []
    },
    {
      "cell_type": "code",
      "source": [],
      "metadata": {
        "id": "ltjItm7bkND3"
      },
      "execution_count": null,
      "outputs": []
    }
  ]
}