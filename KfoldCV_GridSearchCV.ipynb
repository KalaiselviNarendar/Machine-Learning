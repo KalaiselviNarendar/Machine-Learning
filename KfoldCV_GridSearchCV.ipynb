{
  "nbformat": 4,
  "nbformat_minor": 0,
  "metadata": {
    "colab": {
      "provenance": [],
      "collapsed_sections": [],
      "authorship_tag": "ABX9TyPh6/3nVhQ1qkXsRfLHOvF5",
      "include_colab_link": true
    },
    "kernelspec": {
      "name": "python3",
      "display_name": "Python 3"
    },
    "language_info": {
      "name": "python"
    }
  },
  "cells": [
    {
      "cell_type": "markdown",
      "metadata": {
        "id": "view-in-github",
        "colab_type": "text"
      },
      "source": [
        "<a href=\"https://colab.research.google.com/github/KalaiselviNarendar/Machine-Learning/blob/main/KfoldCV_GridSearchCV.ipynb\" target=\"_parent\"><img src=\"https://colab.research.google.com/assets/colab-badge.svg\" alt=\"Open In Colab\"/></a>"
      ]
    },
    {
      "cell_type": "code",
      "execution_count": 1,
      "metadata": {
        "id": "Ak2GGNOBv4_J"
      },
      "outputs": [],
      "source": [
        "from sklearn.datasets import load_iris\n",
        "iris_bunch=load_iris()\n",
        "\n",
        "x=iris_bunch.data\n",
        "y=iris_bunch.target"
      ]
    },
    {
      "cell_type": "code",
      "source": [
        "from sklearn.neighbors import KNeighborsClassifier\n",
        "\n",
        "knn_model = KNeighborsClassifier(n_neighbors = 4) # datapoints+1"
      ],
      "metadata": {
        "id": "8xYQNNiaxUTw"
      },
      "execution_count": 2,
      "outputs": []
    },
    {
      "cell_type": "code",
      "source": [
        "from sklearn.model_selection import KFold\n",
        "cv=KFold(n_splits=10,random_state=1,shuffle=True)"
      ],
      "metadata": {
        "id": "RnSYQuUTyMc6"
      },
      "execution_count": 3,
      "outputs": []
    },
    {
      "cell_type": "code",
      "source": [
        "from sklearn.model_selection import cross_val_score\n",
        "scores=cross_val_score(knn_model,x,y,scoring='accuracy',cv=cv) \n",
        "# we can give as cv=10 so it will invoke kfold\n",
        "scores"
      ],
      "metadata": {
        "colab": {
          "base_uri": "https://localhost:8080/"
        },
        "id": "6YqGEhaixhga",
        "outputId": "6387bcb3-2e14-47ef-fcf3-ef3d861e6648"
      },
      "execution_count": 4,
      "outputs": [
        {
          "output_type": "execute_result",
          "data": {
            "text/plain": [
              "array([1.        , 1.        , 0.93333333, 1.        , 0.86666667,\n",
              "       0.93333333, 1.        , 0.86666667, 1.        , 0.93333333])"
            ]
          },
          "metadata": {},
          "execution_count": 4
        }
      ]
    },
    {
      "cell_type": "code",
      "source": [
        "# we need to take averages of all 10 n splits\n",
        "scores.mean()"
      ],
      "metadata": {
        "colab": {
          "base_uri": "https://localhost:8080/"
        },
        "id": "0hH0Dwpw08-_",
        "outputId": "b038840c-3f36-492a-933d-f6f62d6c87f0"
      },
      "execution_count": 5,
      "outputs": [
        {
          "output_type": "execute_result",
          "data": {
            "text/plain": [
              "0.9533333333333335"
            ]
          },
          "metadata": {},
          "execution_count": 5
        }
      ]
    },
    {
      "cell_type": "markdown",
      "source": [
        "**GridSearch CV**\n",
        "\n",
        "is another cross validation technique\n",
        "\n",
        "-There is a facility to tune the hyperparameters of a model in this technique.\n",
        "\n",
        "is a library function as a part of sklearn's model selection package.\n",
        "\n",
        "it helps to loop through predefined hyperparameters and it will fit the estimator model on the training data set.\n",
        "\n",
        "So that at the end, you can select the best hyperparameters from the predefined list based on the performance."
      ],
      "metadata": {
        "id": "ZAJKPSQX3w3B"
      }
    },
    {
      "cell_type": "code",
      "source": [
        "from sklearn.model_selection import GridSearchCV\n",
        "from sklearn.neighbors import KNeighborsClassifier\n",
        "knn_model_gridsearch = KNeighborsClassifier()"
      ],
      "metadata": {
        "id": "DP0vIBen35vb"
      },
      "execution_count": 6,
      "outputs": []
    },
    {
      "cell_type": "code",
      "source": [
        "param={'n_neighbors': [4,5,6,7,8,10,15], #factors of 150\n",
        "       'weights':['uniform','distance'],\n",
        "       'algorithm':['auto','ball_tree','kd_tree','brute']}"
      ],
      "metadata": {
        "id": "tZpM-nV6OPVq"
      },
      "execution_count": 7,
      "outputs": []
    },
    {
      "cell_type": "code",
      "source": [
        "grid_knn = GridSearchCV(estimator=knn_model_gridsearch,param_grid=param,cv=5,\n",
        "                        scoring='accuracy')"
      ],
      "metadata": {
        "id": "8on_3vtGOsu4"
      },
      "execution_count": 8,
      "outputs": []
    },
    {
      "cell_type": "code",
      "source": [
        "from sklearn.model_selection import train_test_split\n",
        "x_train,x_test,y_train,y_test = train_test_split(x,y,test_size=0.2,random_state=21)\n",
        "grid_knn.fit(x_train,y_train)\n"
      ],
      "metadata": {
        "colab": {
          "base_uri": "https://localhost:8080/"
        },
        "id": "TkKCLvYpO-Jr",
        "outputId": "b695f664-0b8d-41fe-8aaf-1b5aca406cab"
      },
      "execution_count": 10,
      "outputs": [
        {
          "output_type": "execute_result",
          "data": {
            "text/plain": [
              "GridSearchCV(cv=5, estimator=KNeighborsClassifier(),\n",
              "             param_grid={'algorithm': ['auto', 'ball_tree', 'kd_tree', 'brute'],\n",
              "                         'n_neighbors': [4, 5, 6, 7, 8, 10, 15],\n",
              "                         'weights': ['uniform', 'distance']},\n",
              "             scoring='accuracy')"
            ]
          },
          "metadata": {},
          "execution_count": 10
        }
      ]
    },
    {
      "cell_type": "code",
      "source": [
        "print(\"The best parameter values of the KNN model for this dataset is :\")\n",
        "print(grid_knn.best_params_)"
      ],
      "metadata": {
        "colab": {
          "base_uri": "https://localhost:8080/"
        },
        "id": "onA47TXVPbMg",
        "outputId": "24009674-a143-4332-a39a-aa125d3b0d94"
      },
      "execution_count": 11,
      "outputs": [
        {
          "output_type": "stream",
          "name": "stdout",
          "text": [
            "The best parameter values of the KNN model for this dataset is :\n",
            "{'algorithm': 'auto', 'n_neighbors': 4, 'weights': 'uniform'}\n"
          ]
        }
      ]
    },
    {
      "cell_type": "code",
      "source": [
        "y_pred=grid_knn.predict(x_test)"
      ],
      "metadata": {
        "id": "u_wgNTV4bFW0"
      },
      "execution_count": 12,
      "outputs": []
    },
    {
      "cell_type": "code",
      "source": [
        "from sklearn.metrics import accuracy_score\n",
        "accuracy_score(y_test,y_pred)"
      ],
      "metadata": {
        "colab": {
          "base_uri": "https://localhost:8080/"
        },
        "id": "eKNZZF3kbKkV",
        "outputId": "6ea0f077-1788-4025-ce66-36db4473d89a"
      },
      "execution_count": 14,
      "outputs": [
        {
          "output_type": "execute_result",
          "data": {
            "text/plain": [
              "0.9666666666666667"
            ]
          },
          "metadata": {},
          "execution_count": 14
        }
      ]
    },
    {
      "cell_type": "code",
      "source": [],
      "metadata": {
        "id": "2YN1pz9FbRBW"
      },
      "execution_count": null,
      "outputs": []
    }
  ]
}